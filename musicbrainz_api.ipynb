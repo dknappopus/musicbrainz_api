{
 "cells": [
  {
   "cell_type": "markdown",
   "metadata": {},
   "source": [
    "# Prep"
   ]
  },
  {
   "cell_type": "code",
   "execution_count": 1,
   "metadata": {},
   "outputs": [],
   "source": [
    "import musicbrainzngs"
   ]
  },
  {
   "cell_type": "markdown",
   "metadata": {},
   "source": [
    "# Authentication"
   ]
  },
  {
   "cell_type": "code",
   "execution_count": 5,
   "metadata": {},
   "outputs": [],
   "source": [
    "musicbrainzngs.set_useragent(app=\"Opus Metadata Fetcher\",version = \"1.0\")"
   ]
  },
  {
   "cell_type": "code",
   "execution_count": 6,
   "metadata": {},
   "outputs": [
    {
     "name": "stdout",
     "output_type": "stream",
     "text": [
      "name:\t\tThe xx\n",
      "sort name:\txx, The\n"
     ]
    }
   ],
   "source": [
    "artist_id = \"c5c2ea1c-4bde-4f4d-bd0b-47b200bf99d6\"\n",
    "try:\n",
    "    result = musicbrainzngs.get_artist_by_id(artist_id)\n",
    "except WebServiceError as exc:\n",
    "    print(\"Something went wrong with the request: %s\" % exc)\n",
    "else:\n",
    "    artist = result[\"artist\"]\n",
    "    print(\"name:\\t\\t%s\" % artist[\"name\"])\n",
    "    print(\"sort name:\\t%s\" % artist[\"sort-name\"])"
   ]
  },
  {
   "cell_type": "code",
   "execution_count": 7,
   "metadata": {},
   "outputs": [
    {
     "name": "stdout",
     "output_type": "stream",
     "text": [
      "xx (Album)\n",
      "Coexist (Album)\n",
      "I See You (Album)\n",
      "Remixes (Compilation)\n",
      "FACT Mix 70: The xx (Compilation)\n",
      "Islands (EP)\n",
      "Tour Only EP (EP)\n",
      "iTunes Live From SoHo (EP)\n",
      "iTunes Festival: London 2010 (EP)\n",
      "Innervisions Remixes (EP)\n",
      "Hivern Remixes (EP)\n",
      "Live at Club 69 (Live)\n",
      "KEXP Session (EP)\n"
     ]
    }
   ],
   "source": [
    "result = musicbrainzngs.get_artist_by_id(artist_id,\n",
    "              includes=[\"release-groups\"], release_type=[\"album\", \"ep\"])\n",
    "for release_group in result[\"artist\"][\"release-group-list\"]:\n",
    "    print(\"{title} ({type})\".format(title=release_group[\"title\"],\n",
    "                                    type=release_group[\"type\"]))"
   ]
  },
  {
   "cell_type": "code",
   "execution_count": 59,
   "metadata": {},
   "outputs": [
    {
     "data": {
      "text/plain": [
       "{'isrc': {'id': 'US23S9528112',\n",
       "  'recording-list': [{'id': '704ac8b9-5ee6-4c36-ab5d-5a72332b52e7',\n",
       "    'title': '1st of tha Month',\n",
       "    'length': '314466',\n",
       "    'disambiguation': 'explicit, with intro',\n",
       "    'artist-credit': [{'artist': {'id': '2fa45bbb-0efb-4950-9d40-94bf23cbfec1',\n",
       "       'type': 'Group',\n",
       "       'name': 'Bone Thugs‐n‐Harmony',\n",
       "       'sort-name': 'Bone Thugs‐n‐Harmony'}}],\n",
       "    'release-list': [{'id': '67d40d9f-2c89-4d49-8401-794e34f3e2c4',\n",
       "      'title': 'E. 1999 Eternal',\n",
       "      'status': 'Official',\n",
       "      'quality': 'normal',\n",
       "      'text-representation': {'language': 'eng', 'script': 'Latn'},\n",
       "      'date': '1995-07-25',\n",
       "      'country': 'US',\n",
       "      'release-event-list': [{'date': '1995-07-25',\n",
       "        'area': {'id': '489ce91b-6658-3307-9877-795b68554c98',\n",
       "         'name': 'United States',\n",
       "         'sort-name': 'United States',\n",
       "         'iso-3166-1-code-list': ['US']}}],\n",
       "      'release-event-count': 1,\n",
       "      'barcode': '088561553920'},\n",
       "     {'id': 'a4579d95-44bc-3de4-8782-57b3872c4bcf',\n",
       "      'title': 'E. 1999 Eternal',\n",
       "      'status': 'Official',\n",
       "      'quality': 'normal',\n",
       "      'text-representation': {'language': 'eng', 'script': 'Latn'},\n",
       "      'date': '1995',\n",
       "      'country': 'XE',\n",
       "      'release-event-list': [{'date': '1995',\n",
       "        'area': {'id': '89a675c2-3e37-3518-b83c-418bad59a85a',\n",
       "         'name': 'Europe',\n",
       "         'sort-name': 'Europe',\n",
       "         'iso-3166-1-code-list': ['XE']}}],\n",
       "      'release-event-count': 1,\n",
       "      'barcode': '5099748103826'},\n",
       "     {'id': 'cd4d69ae-98a0-4e5b-b512-722f71254a58',\n",
       "      'title': 'E. 1999 Eternal',\n",
       "      'status': 'Official',\n",
       "      'quality': 'normal',\n",
       "      'text-representation': {'language': 'eng', 'script': 'Latn'},\n",
       "      'date': '1996-07-05',\n",
       "      'country': 'DE',\n",
       "      'release-event-list': [{'date': '1996-07-05',\n",
       "        'area': {'id': '85752fda-13c4-31a3-bee5-0e5cb1f51dad',\n",
       "         'name': 'Germany',\n",
       "         'sort-name': 'Germany',\n",
       "         'iso-3166-1-code-list': ['DE']}}],\n",
       "      'release-event-count': 1,\n",
       "      'barcode': '5099748103864'},\n",
       "     {'id': '98b5846e-4041-39a7-b200-846f7516fafd',\n",
       "      'title': 'E. 1999 Eternal',\n",
       "      'status': 'Official',\n",
       "      'quality': 'normal',\n",
       "      'disambiguation': 'explicit',\n",
       "      'text-representation': {'language': 'eng', 'script': 'Latn'},\n",
       "      'date': '1996',\n",
       "      'country': 'US',\n",
       "      'release-event-list': [{'date': '1996',\n",
       "        'area': {'id': '489ce91b-6658-3307-9877-795b68554c98',\n",
       "         'name': 'United States',\n",
       "         'sort-name': 'United States',\n",
       "         'iso-3166-1-code-list': ['US']}}],\n",
       "      'release-event-count': 1,\n",
       "      'barcode': '088561553920'},\n",
       "     {'id': '5e1806ad-6f0c-4894-b88f-486ee5717afb',\n",
       "      'title': 'E. 1999 Eternal',\n",
       "      'status': 'Official',\n",
       "      'quality': 'normal',\n",
       "      'text-representation': {'language': 'eng', 'script': 'Latn'},\n",
       "      'date': '1998-11-24',\n",
       "      'country': 'US',\n",
       "      'release-event-list': [{'date': '1998-11-24',\n",
       "        'area': {'id': '489ce91b-6658-3307-9877-795b68554c98',\n",
       "         'name': 'United States',\n",
       "         'sort-name': 'United States',\n",
       "         'iso-3166-1-code-list': ['US']}}],\n",
       "      'release-event-count': 1,\n",
       "      'barcode': '074646944325'},\n",
       "     {'id': 'a3ceef00-c56e-4bc4-9e67-a390c2d1a91a',\n",
       "      'title': 'The Collection, Volume One',\n",
       "      'status': 'Official',\n",
       "      'quality': 'normal',\n",
       "      'disambiguation': 'explicit',\n",
       "      'packaging': 'Jewel Case',\n",
       "      'text-representation': {'language': 'eng', 'script': 'Latn'},\n",
       "      'date': '1998-11-24',\n",
       "      'country': 'US',\n",
       "      'release-event-list': [{'date': '1998-11-24',\n",
       "        'area': {'id': '489ce91b-6658-3307-9877-795b68554c98',\n",
       "         'name': 'United States',\n",
       "         'sort-name': 'United States',\n",
       "         'iso-3166-1-code-list': ['US']}}],\n",
       "      'release-event-count': 1,\n",
       "      'barcode': '074646971529'},\n",
       "     {'id': '7fa58a0e-d724-440b-9e98-6cbd760c5b32',\n",
       "      'title': 'The Collection, Volume One',\n",
       "      'status': 'Official',\n",
       "      'quality': 'normal',\n",
       "      'disambiguation': 'explicit',\n",
       "      'text-representation': {'language': 'eng', 'script': 'Latn'},\n",
       "      'date': '1998',\n",
       "      'country': 'XE',\n",
       "      'release-event-list': [{'date': '1998',\n",
       "        'area': {'id': '89a675c2-3e37-3518-b83c-418bad59a85a',\n",
       "         'name': 'Europe',\n",
       "         'sort-name': 'Europe',\n",
       "         'iso-3166-1-code-list': ['XE']}}],\n",
       "      'release-event-count': 1,\n",
       "      'barcode': '5099749285729'},\n",
       "     {'id': '7047a0b0-15ec-4e1a-9028-f0618f65f7cb',\n",
       "      'title': 'Greatest Hits',\n",
       "      'status': 'Official',\n",
       "      'quality': 'normal',\n",
       "      'text-representation': {'language': 'eng', 'script': 'Latn'},\n",
       "      'date': '2004-11-16',\n",
       "      'country': 'US',\n",
       "      'release-event-list': [{'date': '2004-11-16',\n",
       "        'area': {'id': '489ce91b-6658-3307-9877-795b68554c98',\n",
       "         'name': 'United States',\n",
       "         'sort-name': 'United States',\n",
       "         'iso-3166-1-code-list': ['US']}}],\n",
       "      'release-event-count': 1,\n",
       "      'barcode': '766922542324'},\n",
       "     {'id': 'fcf8ccf7-c111-4a4a-b7a0-ba3a3d6d389e',\n",
       "      'title': 'Eternal Legends',\n",
       "      'status': 'Official',\n",
       "      'quality': 'normal',\n",
       "      'text-representation': {'language': 'eng', 'script': 'Latn'},\n",
       "      'date': '2009',\n",
       "      'release-event-list': [{'date': '2009'}],\n",
       "      'release-event-count': 1},\n",
       "     {'id': 'b71bfa10-25b0-457a-8b21-54e5e8e822ea',\n",
       "      'title': 'E. 1999 Eternal',\n",
       "      'status': 'Bootleg',\n",
       "      'quality': 'normal',\n",
       "      'disambiguation': 'pink vinyl',\n",
       "      'text-representation': {'language': 'eng', 'script': 'Latn'},\n",
       "      'date': '2014',\n",
       "      'country': 'NL',\n",
       "      'release-event-list': [{'date': '2014',\n",
       "        'area': {'id': 'ef1b7cc0-cd26-36f4-8ea0-04d9623786c7',\n",
       "         'name': 'Netherlands',\n",
       "         'sort-name': 'Netherlands',\n",
       "         'iso-3166-1-code-list': ['NL']}}],\n",
       "      'release-event-count': 1,\n",
       "      'barcode': ''},\n",
       "     {'id': '5852bacd-8636-4683-9182-16fc19eebf5d',\n",
       "      'title': 'E. 1999 Eternal',\n",
       "      'status': 'Official',\n",
       "      'quality': 'normal',\n",
       "      'packaging': 'Cardboard/Paper Sleeve',\n",
       "      'text-representation': {'language': 'eng', 'script': 'Latn'},\n",
       "      'date': '2019-04-13',\n",
       "      'country': 'US',\n",
       "      'release-event-list': [{'date': '2019-04-13',\n",
       "        'area': {'id': '489ce91b-6658-3307-9877-795b68554c98',\n",
       "         'name': 'United States',\n",
       "         'sort-name': 'United States',\n",
       "         'iso-3166-1-code-list': ['US']}}],\n",
       "      'release-event-count': 1,\n",
       "      'barcode': '193483383620'},\n",
       "     {'id': '099443c7-2578-46e7-8729-25b66aeeeae0',\n",
       "      'title': 'E. 1999 Eternal',\n",
       "      'status': 'Official',\n",
       "      'quality': 'normal',\n",
       "      'disambiguation': 'VMP Essentials',\n",
       "      'packaging': 'Gatefold Cover',\n",
       "      'text-representation': {'language': 'eng', 'script': 'Latn'},\n",
       "      'date': '2023-08',\n",
       "      'country': 'US',\n",
       "      'release-event-list': [{'date': '2023-08',\n",
       "        'area': {'id': '489ce91b-6658-3307-9877-795b68554c98',\n",
       "         'name': 'United States',\n",
       "         'sort-name': 'United States',\n",
       "         'iso-3166-1-code-list': ['US']}}],\n",
       "      'release-event-count': 1},\n",
       "     {'id': 'd89f94fa-9a2b-4eb9-ae2a-53e0806eec55',\n",
       "      'title': 'E. 1999 Eternal',\n",
       "      'status': 'Official',\n",
       "      'quality': 'normal',\n",
       "      'disambiguation': 'explicit',\n",
       "      'packaging': 'None',\n",
       "      'text-representation': {'language': 'eng', 'script': 'Latn'},\n",
       "      'country': 'US',\n",
       "      'release-event-list': [{'area': {'id': '489ce91b-6658-3307-9877-795b68554c98',\n",
       "         'name': 'United States',\n",
       "         'sort-name': 'United States',\n",
       "         'iso-3166-1-code-list': ['US']}}],\n",
       "      'release-event-count': 1,\n",
       "      'barcode': '191018283230'}],\n",
       "    'release-count': 13,\n",
       "    'isrc-list': ['US23S9528112'],\n",
       "    'isrc-count': 1,\n",
       "    'artist-credit-phrase': 'Bone Thugs‐n‐Harmony'}],\n",
       "  'recording-count': 1}}"
      ]
     },
     "execution_count": 59,
     "metadata": {},
     "output_type": "execute_result"
    }
   ],
   "source": [
    "musicbrainzngs.get_recordings_by_isrc('US23S9528112', includes=['artists',\n",
    "                                                                'releases',\n",
    "                                                                'isrcs'], release_status=[], release_type=[])\n",
    "# artists, \n",
    "# releases, \n",
    "# isrcs\n"
   ]
  },
  {
   "cell_type": "code",
   "execution_count": null,
   "metadata": {},
   "outputs": [],
   "source": [
    "# to get from isrc to label:\n",
    "# isrc --> recording\n",
    "# recording --> releases"
   ]
  },
  {
   "cell_type": "code",
   "execution_count": 74,
   "metadata": {},
   "outputs": [],
   "source": [
    "test = musicbrainzngs.get_recording_by_id('704ac8b9-5ee6-4c36-ab5d-5a72332b52e7', includes=['releases'], release_status=[], release_type=[])\n",
    "rls_ids = [rls['id'] for rls in test['recording']['release-list']]"
   ]
  },
  {
   "cell_type": "code",
   "execution_count": 75,
   "metadata": {},
   "outputs": [
    {
     "data": {
      "text/plain": [
       "['67d40d9f-2c89-4d49-8401-794e34f3e2c4',\n",
       " 'a4579d95-44bc-3de4-8782-57b3872c4bcf',\n",
       " 'cd4d69ae-98a0-4e5b-b512-722f71254a58',\n",
       " '98b5846e-4041-39a7-b200-846f7516fafd',\n",
       " '5e1806ad-6f0c-4894-b88f-486ee5717afb',\n",
       " 'a3ceef00-c56e-4bc4-9e67-a390c2d1a91a',\n",
       " '7fa58a0e-d724-440b-9e98-6cbd760c5b32',\n",
       " '7047a0b0-15ec-4e1a-9028-f0618f65f7cb',\n",
       " 'fcf8ccf7-c111-4a4a-b7a0-ba3a3d6d389e',\n",
       " 'b71bfa10-25b0-457a-8b21-54e5e8e822ea',\n",
       " '5852bacd-8636-4683-9182-16fc19eebf5d',\n",
       " '099443c7-2578-46e7-8729-25b66aeeeae0',\n",
       " 'd89f94fa-9a2b-4eb9-ae2a-53e0806eec55']"
      ]
     },
     "execution_count": 75,
     "metadata": {},
     "output_type": "execute_result"
    }
   ],
   "source": [
    "rls_ids"
   ]
  },
  {
   "cell_type": "code",
   "execution_count": 102,
   "metadata": {},
   "outputs": [
    {
     "ename": "IndexError",
     "evalue": "list index out of range",
     "output_type": "error",
     "traceback": [
      "\u001b[1;31m---------------------------------------------------------------------------\u001b[0m",
      "\u001b[1;31mIndexError\u001b[0m                                Traceback (most recent call last)",
      "Cell \u001b[1;32mIn[102], line 1\u001b[0m\n\u001b[1;32m----> 1\u001b[0m test2 \u001b[38;5;241m=\u001b[39m musicbrainzngs\u001b[38;5;241m.\u001b[39mget_release_by_id(\u001b[38;5;28mid\u001b[39m \u001b[38;5;241m=\u001b[39m \u001b[43mrls_ids\u001b[49m\u001b[43m[\u001b[49m\u001b[38;5;241;43m13\u001b[39;49m\u001b[43m]\u001b[49m,includes\u001b[38;5;241m=\u001b[39m\u001b[38;5;124m'\u001b[39m\u001b[38;5;124mlabels\u001b[39m\u001b[38;5;124m'\u001b[39m)\n\u001b[0;32m      2\u001b[0m \u001b[38;5;66;03m# print(test2)\u001b[39;00m\n\u001b[0;32m      3\u001b[0m \u001b[38;5;28mprint\u001b[39m(test2[\u001b[38;5;124m'\u001b[39m\u001b[38;5;124mrelease\u001b[39m\u001b[38;5;124m'\u001b[39m][\u001b[38;5;124m'\u001b[39m\u001b[38;5;124mlabel-info-count\u001b[39m\u001b[38;5;124m'\u001b[39m])\n",
      "\u001b[1;31mIndexError\u001b[0m: list index out of range"
     ]
    }
   ],
   "source": [
    "test2 = musicbrainzngs.get_release_by_id(id = rls_ids[1],includes='labels')\n",
    "# print(test2)\n",
    "print(test2['release']['label-info-count'])\n",
    "print(test2['release']['label-info-list'][0]['label']['name'])\n"
   ]
  },
  {
   "cell_type": "code",
   "execution_count": 42,
   "metadata": {},
   "outputs": [
    {
     "data": {
      "text/plain": [
       "{'id': '099443c7-2578-46e7-8729-25b66aeeeae0',\n",
       " 'title': 'E. 1999 Eternal',\n",
       " 'status': 'Official',\n",
       " 'disambiguation': 'VMP Essentials',\n",
       " 'artist-credit': [{'name': 'Bone Thugs‐n‐Harmony',\n",
       "   'artist': {'id': '2fa45bbb-0efb-4950-9d40-94bf23cbfec1',\n",
       "    'name': 'Bone Thugs‐n‐Harmony',\n",
       "    'sort-name': 'Bone Thugs‐n‐Harmony'}}],\n",
       " 'release-group': {'id': '5262e658-652f-33aa-af8f-6af28c2da7aa',\n",
       "  'type': 'Album',\n",
       "  'title': 'E. 1999 Eternal',\n",
       "  'primary-type': 'Album'},\n",
       " 'date': '2023-08',\n",
       " 'country': 'US',\n",
       " 'release-event-list': [{'date': '2023-08',\n",
       "   'area': {'id': '489ce91b-6658-3307-9877-795b68554c98',\n",
       "    'name': 'United States',\n",
       "    'sort-name': 'United States',\n",
       "    'iso-3166-1-code-list': ['US']}}],\n",
       " 'medium-list': [{'position': '2',\n",
       "   'format': '12\" Vinyl',\n",
       "   'track-list': [{'id': 'b5816721-f492-42ea-a01d-bf9c0fbfe028',\n",
       "     'number': 'C4',\n",
       "     'title': '1st of tha Month'}],\n",
       "   'track-count': 9}],\n",
       " 'medium-track-count': 17,\n",
       " 'medium-count': 2,\n",
       " 'artist-credit-phrase': 'Bone Thugs‐n‐Harmony'}"
      ]
     },
     "execution_count": 42,
     "metadata": {},
     "output_type": "execute_result"
    }
   ],
   "source": [
    "record_search = musicbrainzngs.search_recordings(query='', limit=None, offset=None, strict=False, isrc = 'US23S9528112')\n",
    "record_search['recording-list'][0]['release-list'][0]"
   ]
  },
  {
   "cell_type": "code",
   "execution_count": 44,
   "metadata": {},
   "outputs": [
    {
     "data": {
      "text/plain": [
       "{'label-list': [{'id': '90594e37-b9cf-4f80-9960-2f8e28c3b34d',\n",
       "   'type': 'Publisher',\n",
       "   'ext:score': '100',\n",
       "   'name': 'Ruthless Attack Muzick',\n",
       "   'sort-name': 'Ruthless Attack Muzick',\n",
       "   'ipi-list': ['00128442384'],\n",
       "   'country': 'US',\n",
       "   'area': {'id': '489ce91b-6658-3307-9877-795b68554c98',\n",
       "    'type': 'Country',\n",
       "    'name': 'United States',\n",
       "    'sort-name': 'United States',\n",
       "    'life-span': {'ended': 'false'}},\n",
       "   'life-span': {'ended': 'false'}}],\n",
       " 'label-count': 1}"
      ]
     },
     "execution_count": 44,
     "metadata": {},
     "output_type": "execute_result"
    }
   ],
   "source": [
    "# ruthless attack muzick record label\n",
    "musicbrainzngs.search_labels(query='', limit=None, offset=None, strict=False, ipi = '00128442384')"
   ]
  }
 ],
 "metadata": {
  "kernelspec": {
   "display_name": ".venv",
   "language": "python",
   "name": "python3"
  },
  "language_info": {
   "codemirror_mode": {
    "name": "ipython",
    "version": 3
   },
   "file_extension": ".py",
   "mimetype": "text/x-python",
   "name": "python",
   "nbconvert_exporter": "python",
   "pygments_lexer": "ipython3",
   "version": "3.11.3"
  }
 },
 "nbformat": 4,
 "nbformat_minor": 2
}
