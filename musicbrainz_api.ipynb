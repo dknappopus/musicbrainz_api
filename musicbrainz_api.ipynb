{
 "cells": [
  {
   "cell_type": "markdown",
   "metadata": {},
   "source": [
    "# Prep"
   ]
  },
  {
   "cell_type": "code",
   "execution_count": 52,
   "metadata": {},
   "outputs": [],
   "source": [
    "import musicbrainzngs\n",
    "import pandas as pd\n",
    "\n",
    "from ratelimit import limits, sleep_and_retry\n",
    "import traceback"
   ]
  },
  {
   "cell_type": "markdown",
   "metadata": {},
   "source": [
    "# Authentication"
   ]
  },
  {
   "cell_type": "code",
   "execution_count": 53,
   "metadata": {},
   "outputs": [],
   "source": [
    "musicbrainzngs.set_useragent(app=\"Opus Metadata Fetcher\",version = \"1.0\")"
   ]
  },
  {
   "cell_type": "markdown",
   "metadata": {},
   "source": [
    "# Add Musicbrainz metadata"
   ]
  },
  {
   "cell_type": "markdown",
   "metadata": {},
   "source": [
    "## Utility Functions"
   ]
  },
  {
   "cell_type": "code",
   "execution_count": 54,
   "metadata": {},
   "outputs": [],
   "source": [
    "def mb_recording_template(input_isrc = ''):\n",
    "    # default recording_id in the format of music brainz recording id\n",
    "    default_recording_id = 'zzzzzzzz-zzzz-zzzz-zzzz-zzzzzzzzzzzz'\n",
    "    default_mb_recording_title = ''\n",
    "    default_mb_recording_length = '0'\n",
    "    \n",
    "    data = {\n",
    "    'mb_recording_id': [default_recording_id],\n",
    "    'mb_recording_title': [default_mb_recording_title],\n",
    "    'mb_recording_length': [default_mb_recording_length],\n",
    "    'isrc_opus': [input_isrc]\n",
    "}\n",
    "    default_recording_df = pd.DataFrame(data)\n",
    "    \n",
    "    return default_recording_df\n",
    "\n",
    "def compare_dataframes(df1, df2):\n",
    "    # Check if column names are equal\n",
    "    if list(df1.columns) != list(df2.columns):\n",
    "        print(\"Column names are not equal\")\n",
    "        return False\n",
    "    \n",
    "    # Check if column types are equal\n",
    "    if not df1.dtypes.equals(df2.dtypes):\n",
    "        print(\"Column types are not equal\")\n",
    "        return False\n",
    "    \n",
    "    # print(\"Column names and types are equal\")\n",
    "    return True\n",
    "def create_mb_globals():\n",
    "    # dictionary of globals\n",
    "    \n",
    "    # default df\n",
    "    mb_recording_df_dflt = mb_recording_template()\n",
    "    \n",
    "    found_recording_dfs = []\n",
    "    missing_recording_dfs = []\n",
    "    mb_release_dfs = []\n",
    "    mb_label_dfs = []\n",
    "    error_log = []\n",
    "\n",
    "    mb_global_dict = {'recording_df_default':mb_recording_df_dflt,\n",
    "                      'found_recording_dfs':found_recording_dfs,\n",
    "                      'missing_recording_dfs':missing_recording_dfs,\n",
    "                      'release_dfs':mb_release_dfs,\n",
    "                      'label_dfs':mb_label_dfs,\n",
    "                      'error_log':error_log}\n",
    "    return mb_global_dict\n",
    "\n",
    "\n",
    "\n",
    "\n",
    "def format_recording(mb_recording,input_isrc):\n",
    "    # formats music brains recording object\n",
    "    recording_df = pd.DataFrame(mb_recording['isrc']['recording-list'])\n",
    "    recording_df['isrc_opus'] = input_isrc\n",
    "    recording_df = recording_df.rename(columns={'id':'mb_recording_id',\n",
    "                                                    'title':'mb_recording_title',\n",
    "                                                    'length':'mb_recording_length'})\n",
    "    return recording_df"
   ]
  },
  {
   "cell_type": "markdown",
   "metadata": {},
   "source": [
    "### Release"
   ]
  },
  {
   "cell_type": "code",
   "execution_count": 55,
   "metadata": {},
   "outputs": [],
   "source": [
    "def parse_release_text(text):\n",
    "    \"\"\"retrieve language from text-representation field of release dataframe\n",
    "    ex: {'language': 'eng', 'script': 'Latn'} --> 'eng' \"\"\"\n",
    "    try: \n",
    "        # format string as a dictionary and extract value of 'language' key\n",
    "        language = dict(text)['language']\n",
    "    except Exception as e:\n",
    "        language = None\n",
    "        print(e)\n",
    "    finally:\n",
    "        return language\n",
    "def parse_release_date(date_str):\n",
    "    if len(date_str) == 4:\n",
    "        return date_str + '-01-01'  # Assuming it's the start of the year\n",
    "    elif len(date_str) == 7:\n",
    "        return date_str + '-01'\n",
    "    else:\n",
    "        return date_str\n",
    "    \n",
    "def flag_complete_date(date_str):\n",
    "    try:\n",
    "        pd.to_datetime(date_str,format='%Y-%m-%d')\n",
    "        return '1'\n",
    "    except ValueError:\n",
    "        return '0'\n",
    "def format_mb_release(mb_release,recording_id):\n",
    "    release_df = pd.DataFrame(mb_release['release-list'])\n",
    "    # print(mb_release.columns)\n",
    "    # get release language from text-representation field\n",
    "    release_df['mb_release_language'] = release_df['text-representation'].apply(parse_release_text)\n",
    "    # flag date format\n",
    "    release_df['mb_complete_date_flag'] = release_df['date'].apply(flag_complete_date)\n",
    "    # format date\n",
    "    release_df['mb_date'] = release_df['date'].apply(parse_release_date)\n",
    "    \n",
    "    # add recording_id\n",
    "    release_df['mb_recording_id'] = recording_id\n",
    "    # rename columns\n",
    "    release_df = release_df.rename(columns = {'id':'mb_release_id',\n",
    "                                              'title':'mb_release_title',\n",
    "                                              'status':'mb_release_status',\n",
    "                                              'country':'mb_release_country',\n",
    "                                              'quality':'mb_release_quality'})\n",
    "    \n",
    "    release_df['recording_id'] = recording_id\n",
    "    # select columns\n",
    "    release_df = release_df[['mb_release_id',\n",
    "                             'mb_release_title',\n",
    "                             'mb_release_status',\n",
    "                             'mb_release_country',\n",
    "                             'mb_release_quality',\n",
    "                             'mb_release_language',\n",
    "                             'mb_complete_date_flag',\n",
    "                             'mb_date',\n",
    "                             'mb_recording_id']]\n",
    "    return release_df\n",
    "    # print('done')\n"
   ]
  },
  {
   "cell_type": "code",
   "execution_count": 56,
   "metadata": {},
   "outputs": [],
   "source": [
    "# Decorate the function with sleep_and_retry\n",
    "@sleep_and_retry\n",
    "# Set the rate limit to 1 calls per second\n",
    "@limits(calls=1, period=1)\n",
    "# define function\n",
    "def build_release_df(input_recording_id,mb_global_dict):\n",
    "    # if HTTPError, handle with default df\n",
    "    try:\n",
    "        # look up recording using isrc. if the isrc is not found, ResponseError will be thrown\n",
    "        releases = musicbrainzngs.browse_releases(recording=input_recording_id)\n",
    "        release_df = format_mb_release(releases,recording_id=input_recording_id)\n",
    "        mb_global_dict['release_dfs'].append(release_df)\n",
    "    except musicbrainzngs.musicbrainz.ResponseError as e:\n",
    "        print('recording not found in musicbrainz')\n",
    "\n",
    "    finally:\n",
    "        return mb_global_dict"
   ]
  },
  {
   "cell_type": "markdown",
   "metadata": {},
   "source": [
    "## Build recording df"
   ]
  },
  {
   "cell_type": "code",
   "execution_count": 57,
   "metadata": {},
   "outputs": [],
   "source": [
    "# plan\n",
    "mb_global_dict = create_mb_globals()\n",
    "# isrc --> recording --> release --> label\n",
    "input_isrcs = ['USSM10600677',\n",
    "               'USSM106006771',\n",
    "               'USSM106006772',\n",
    "               'USSM106006773',\n",
    "               'USSM106006774',\n",
    "               'USSM106006775']\n",
    "# Decorate the function with sleep_and_retry\n",
    "@sleep_and_retry\n",
    "# Set the rate limit to 1 calls per second\n",
    "@limits(calls=1, period=1)\n",
    "def build_recording_df(input_isrc,mb_global_dict):\n",
    "    # if HTTPError, handle with default df\n",
    "    try:\n",
    "        # look up recording using isrc. if the isrc is not found, ResponseError will be thrown\n",
    "        recordings = musicbrainzngs.get_recordings_by_isrc(input_isrc, includes=[], release_status=[], release_type=[])\n",
    "        # if isrc is found, then format the recording information\n",
    "        recording_df = format_recording(recordings,input_isrc = input_isrc)\n",
    "        assert compare_dataframes(recording_df,mb_global_dict['recording_df_default'])\n",
    "        # add to list of found recordings\n",
    "        mb_global_dict['found_recording_dfs'].append(recording_df)\n",
    "    except musicbrainzngs.musicbrainz.ResponseError as e:\n",
    "        print('isrc not found in musicbrainz')\n",
    "        # create missing recording info for isrc\n",
    "        recording_df = mb_recording_template(input_isrc=input_isrc)\n",
    "        # ensure proper format \n",
    "        assert compare_dataframes(recording_df,mb_global_dict['recording_df_default'])\n",
    "        # add to missing recording dfs\n",
    "        mb_global_dict['missing_recording_dfs'].append(recording_df)\n",
    "    \n",
    "    except Exception as e:\n",
    "        print(e)\n",
    "        error_log = {'process':'recording_df',\n",
    "                     'error_type':'fatal',\n",
    "                     'error':e}\n",
    "        mb_global_dict['error_log'].append(error_log)\n",
    "        # raise e\n",
    "        \n",
    "    \n",
    "    finally:\n",
    "        return mb_global_dict\n",
    "\n",
    "# dim_song_detail --> stg_mb_recording_detail (key: isrc, mb_recording_id)\n",
    "# stg_mb_release_detail (key: recording/release)\n",
    "# stg_mb_label_detail (key: label/release)"
   ]
  },
  {
   "cell_type": "code",
   "execution_count": 58,
   "metadata": {},
   "outputs": [
    {
     "name": "stdout",
     "output_type": "stream",
     "text": [
      "isrc not found in musicbrainz\n",
      "isrc not found in musicbrainz\n",
      "isrc not found in musicbrainz\n",
      "isrc not found in musicbrainz\n",
      "isrc not found in musicbrainz\n"
     ]
    }
   ],
   "source": [
    "# Call the function ensuring one call per second\n",
    "for isrc in input_isrcs:\n",
    "    try:\n",
    "        mb_global_dict = build_recording_df(input_isrc=isrc,mb_global_dict = mb_global_dict)\n",
    "    except Exception as e:\n",
    "        raise e"
   ]
  },
  {
   "cell_type": "markdown",
   "metadata": {},
   "source": [
    "## Build release df"
   ]
  },
  {
   "cell_type": "code",
   "execution_count": 59,
   "metadata": {},
   "outputs": [],
   "source": [
    "for df in mb_global_dict['found_recording_dfs']:\n",
    "    for recording_id in df['mb_recording_id']:\n",
    "        build_release_df(recording_id,mb_global_dict)"
   ]
  },
  {
   "cell_type": "code",
   "execution_count": 62,
   "metadata": {},
   "outputs": [
    {
     "data": {
      "text/html": [
       "<div>\n",
       "<style scoped>\n",
       "    .dataframe tbody tr th:only-of-type {\n",
       "        vertical-align: middle;\n",
       "    }\n",
       "\n",
       "    .dataframe tbody tr th {\n",
       "        vertical-align: top;\n",
       "    }\n",
       "\n",
       "    .dataframe thead th {\n",
       "        text-align: right;\n",
       "    }\n",
       "</style>\n",
       "<table border=\"1\" class=\"dataframe\">\n",
       "  <thead>\n",
       "    <tr style=\"text-align: right;\">\n",
       "      <th></th>\n",
       "      <th>mb_release_id</th>\n",
       "      <th>mb_release_title</th>\n",
       "      <th>mb_release_status</th>\n",
       "      <th>mb_release_country</th>\n",
       "      <th>mb_release_quality</th>\n",
       "      <th>mb_release_language</th>\n",
       "      <th>mb_complete_date_flag</th>\n",
       "      <th>mb_date</th>\n",
       "      <th>mb_recording_id</th>\n",
       "    </tr>\n",
       "  </thead>\n",
       "  <tbody>\n",
       "    <tr>\n",
       "      <th>0</th>\n",
       "      <td>27af023b-7967-4cc4-8ef5-7edccada8219</td>\n",
       "      <td>Die ultimative Chart Show: Die erfolgreichsten...</td>\n",
       "      <td>Official</td>\n",
       "      <td>DE</td>\n",
       "      <td>normal</td>\n",
       "      <td>mul</td>\n",
       "      <td>1</td>\n",
       "      <td>2009-11-13</td>\n",
       "      <td>53056bc7-d60e-4f68-b420-11894097fc09</td>\n",
       "    </tr>\n",
       "    <tr>\n",
       "      <th>1</th>\n",
       "      <td>5215b593-5741-47b3-bd4e-d5a3d473068f</td>\n",
       "      <td>School Disco Anthems</td>\n",
       "      <td>Official</td>\n",
       "      <td>AU</td>\n",
       "      <td>normal</td>\n",
       "      <td>eng</td>\n",
       "      <td>1</td>\n",
       "      <td>2010-05-25</td>\n",
       "      <td>53056bc7-d60e-4f68-b420-11894097fc09</td>\n",
       "    </tr>\n",
       "    <tr>\n",
       "      <th>2</th>\n",
       "      <td>ee5ac04a-143f-4371-b90f-5c8e0b5e5751</td>\n",
       "      <td>Zomer Top 100: Joe FM</td>\n",
       "      <td>Official</td>\n",
       "      <td>BE</td>\n",
       "      <td>normal</td>\n",
       "      <td>eng</td>\n",
       "      <td>1</td>\n",
       "      <td>2012-06-22</td>\n",
       "      <td>53056bc7-d60e-4f68-b420-11894097fc09</td>\n",
       "    </tr>\n",
       "  </tbody>\n",
       "</table>\n",
       "</div>"
      ],
      "text/plain": [
       "                          mb_release_id  \\\n",
       "0  27af023b-7967-4cc4-8ef5-7edccada8219   \n",
       "1  5215b593-5741-47b3-bd4e-d5a3d473068f   \n",
       "2  ee5ac04a-143f-4371-b90f-5c8e0b5e5751   \n",
       "\n",
       "                                    mb_release_title mb_release_status  \\\n",
       "0  Die ultimative Chart Show: Die erfolgreichsten...          Official   \n",
       "1                               School Disco Anthems          Official   \n",
       "2                              Zomer Top 100: Joe FM          Official   \n",
       "\n",
       "  mb_release_country mb_release_quality mb_release_language  \\\n",
       "0                 DE             normal                 mul   \n",
       "1                 AU             normal                 eng   \n",
       "2                 BE             normal                 eng   \n",
       "\n",
       "  mb_complete_date_flag     mb_date                       mb_recording_id  \n",
       "0                     1  2009-11-13  53056bc7-d60e-4f68-b420-11894097fc09  \n",
       "1                     1  2010-05-25  53056bc7-d60e-4f68-b420-11894097fc09  \n",
       "2                     1  2012-06-22  53056bc7-d60e-4f68-b420-11894097fc09  "
      ]
     },
     "execution_count": 62,
     "metadata": {},
     "output_type": "execute_result"
    }
   ],
   "source": [
    "mb_global_dict['release_dfs'][1]"
   ]
  },
  {
   "cell_type": "code",
   "execution_count": null,
   "metadata": {},
   "outputs": [],
   "source": []
  },
  {
   "cell_type": "markdown",
   "metadata": {},
   "source": [
    "# Scratch Work"
   ]
  }
 ],
 "metadata": {
  "kernelspec": {
   "display_name": ".venv",
   "language": "python",
   "name": "python3"
  },
  "language_info": {
   "codemirror_mode": {
    "name": "ipython",
    "version": 3
   },
   "file_extension": ".py",
   "mimetype": "text/x-python",
   "name": "python",
   "nbconvert_exporter": "python",
   "pygments_lexer": "ipython3",
   "version": "3.11.3"
  }
 },
 "nbformat": 4,
 "nbformat_minor": 2
}
